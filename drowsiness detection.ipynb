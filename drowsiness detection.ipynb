{
 "cells": [
  {
   "cell_type": "markdown",
   "metadata": {},
   "source": [
    "# Drowsiness Detection using OpenCV\n",
    "* With the help of Computer Vision we are trying to detect the drowsiness.\n",
    "* Here we are using Haar Cascades files for object detection. \n",
    "* We also use numpy ,keras and time libraries for this project."
   ]
  },
  {
   "cell_type": "markdown",
   "metadata": {},
   "source": [
    "### Importing all the required libraries"
   ]
  },
  {
   "cell_type": "code",
   "execution_count": 1,
   "metadata": {},
   "outputs": [
    {
     "name": "stderr",
     "output_type": "stream",
     "text": [
      "Using TensorFlow backend.\n"
     ]
    }
   ],
   "source": [
    "import os\n",
    "import cv2\n",
    "from keras.models import load_model\n",
    "import numpy as np\n",
    "import time"
   ]
  },
  {
   "cell_type": "markdown",
   "metadata": {},
   "source": [
    "### Getting the required Haar Cascades XML files \n",
    "* Here face variable stores the XML file required for face detection.\n",
    "* leye stores the XML file required for left eye detection.\n",
    "* reye stores the XML file required for right eye detection."
   ]
  },
  {
   "cell_type": "code",
   "execution_count": 2,
   "metadata": {},
   "outputs": [],
   "source": [
    "face=cv2.CascadeClassifier('C:\\\\Users\\\\EKTA\\\\Downloads\\\\haarcascades-20201007T081335Z-001\\\\haarcascades\\\\haarcascade_frontalface_alt.xml')\n",
    "leye=cv2.CascadeClassifier('C:\\\\Users\\\\EKTA\\\\Downloads\\\\haarcascades-20201007T081335Z-001\\\\haarcascades\\\\haarcascade_lefteye_2splits.xml')\n",
    "reye=cv2.CascadeClassifier('C:\\\\Users\\\\EKTA\\\\Downloads\\\\haarcascades-20201007T081335Z-001\\\\haarcascades\\\\haarcascade_righteye_2splits.xml')\n",
    "lbl=['Close','Open']"
   ]
  },
  {
   "cell_type": "markdown",
   "metadata": {},
   "source": [
    "#### Accessing the model file\n",
    "The model variable consist of the model architecture. The model we used is built with keras using CNN(Concolutional Neural Network). CNN is a special type of neural network which performs extremely well for image classification purposes. "
   ]
  },
  {
   "cell_type": "code",
   "execution_count": 3,
   "metadata": {},
   "outputs": [
    {
     "name": "stdout",
     "output_type": "stream",
     "text": [
      "C:\\Users\\EKTA\n"
     ]
    }
   ],
   "source": [
    "model = load_model('C:\\\\Users\\\\EKTA\\\\Downloads\\\\Drowsiness detection\\\\Drowsiness detection\\\\models\\\\cnncat2.h5')\n",
    "path = os.getcwd()\n",
    "print(path)\n"
   ]
  },
  {
   "cell_type": "markdown",
   "metadata": {},
   "source": [
    "We store the web cam image in 'cap' variable. Then, we convert it into greyscale ,resize and normalize it.\n",
    "Now we detect the face in the image and create a Region Of Interest(ROI).\n",
    "Doing the same as above we detect both the eyes and create a Region Of Interest(ROI).\n",
    "Now we use the CNN model for the predicting each eye.\n",
    "If the predicted value is 1 that means the eye(s) is(are) open. Else the eyes closed."
   ]
  },
  {
   "cell_type": "code",
   "execution_count": 4,
   "metadata": {},
   "outputs": [],
   "source": [
    "cap=cv2.VideoCapture(0)\n",
    "font=cv2.FONT_HERSHEY_COMPLEX_SMALL\n",
    "count=0\n",
    "score=0\n",
    "thicc=2\n",
    "rpred=[99]\n",
    "lpred=[99]\n",
    "while True:\n",
    "    ret,frame=cap.read()\n",
    "    height,width=frame.shape[:2]\n",
    "    gray=cv2.cvtColor(frame,cv2.COLOR_BGR2GRAY)\n",
    "    faces=face.detectMultiScale(gray,minNeighbors=5,scaleFactor=1.1,minSize=(25,25))\n",
    "    left_eye=leye.detectMultiScale(gray)\n",
    "    right_eye=reye.detectMultiScale(gray)\n",
    "    cv2.rectangle(frame,(0,height-50),(200,height),(0,0,255),thickness=1)\n",
    "    for(x,y,w,h) in faces:\n",
    "        cv2.rectangle(frame,(x,y),(x+w,y+h),(0,255,0),5)\n",
    "    for(x,y,w,h) in right_eye:\n",
    "        r_eye=frame[y:y+h,x:x+w]\n",
    "        count=count+1\n",
    "        r_eye=cv2.cvtColor(r_eye,cv2.COLOR_BGR2GRAY)\n",
    "        r_eye=cv2.resize(r_eye,(24,24))\n",
    "        r_eye=r_eye/255\n",
    "        r_eye=r_eye.reshape(24,24,-1)\n",
    "        r_eye=np.expand_dims(r_eye,axis=0)\n",
    "        rpred=model.predict_classes(r_eye)\n",
    "        if(rpred[0]==1):\n",
    "            lbl='Open'\n",
    "        else:\n",
    "            lbl='Closed'\n",
    "        break\n",
    "    for(x,y,w,h) in left_eye:\n",
    "        l_eye=frame[y:y+h,x:x+w]\n",
    "        count=count+1\n",
    "        l_eye=cv2.cvtColor(l_eye,cv2.COLOR_BGR2GRAY)\n",
    "        l_eye=cv2.resize(l_eye,(24,24))\n",
    "        l_eye=l_eye/255\n",
    "        l_eye=l_eye.reshape(24,24,-1)\n",
    "        l_eye=np.expand_dims(l_eye,axis=0)\n",
    "        lpred=model.predict_classes(l_eye)\n",
    "        if lpred[0]==1:\n",
    "            lbl='Open'\n",
    "        else:\n",
    "            lbl='Closed'\n",
    "    if (rpred[0]==0 and lpred[0]==0):\n",
    "        score=score+1\n",
    "        cv2.putText(frame,'Closed',(10,height-20),font,1,(255,255,255),1,cv2.LINE_AA)\n",
    "    else:\n",
    "        score=score-1\n",
    "        cv2.putText(frame,'Open',(10,height-20),font,1,(255,255,255),1,cv2.LINE_AA)\n",
    "    if score<0:\n",
    "        score=0\n",
    "    cv2.putText(frame,'Score:'+str(score),(100,height-20),font,1,(255,255,255),1,cv2.LINE_AA)\n",
    "    if(score>5):\n",
    "        cv2.imwrite(os.path.join(path,'image.jpg'),frame)\n",
    "        try:\n",
    "            sound.play()\n",
    "        except: \n",
    "            isplaying=False\n",
    "            pass\n",
    "        if(thicc<16):\n",
    "            thicc=thicc+2\n",
    "        else:\n",
    "            thicc=thicc-2\n",
    "            if thicc<2:\n",
    "                thicc=2\n",
    "        cv2.rectangle(frame,(0,0),(width,height),(0,0,255),thicc)\n",
    "    cv2.imshow('frame',frame)\n",
    "    if cv2.waitKey(1) & 0xFF==ord('q'):\n",
    "        break\n",
    "cap.release()\n",
    "cv2.destroyAllWindows()"
   ]
  },
  {
   "cell_type": "code",
   "execution_count": null,
   "metadata": {},
   "outputs": [],
   "source": []
  }
 ],
 "metadata": {
  "kernelspec": {
   "display_name": "Python 3",
   "language": "python",
   "name": "python3"
  },
  "language_info": {
   "codemirror_mode": {
    "name": "ipython",
    "version": 3
   },
   "file_extension": ".py",
   "mimetype": "text/x-python",
   "name": "python",
   "nbconvert_exporter": "python",
   "pygments_lexer": "ipython3",
   "version": "3.7.7"
  }
 },
 "nbformat": 4,
 "nbformat_minor": 4
}
